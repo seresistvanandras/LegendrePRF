{
 "cells": [
  {
   "cell_type": "code",
   "execution_count": 138,
   "metadata": {},
   "outputs": [],
   "source": [
    "import numpy as np\n",
    "from sys import exit\n",
    "from functools import reduce\n",
    "import sympy\n",
    "from sympy.matrices import Matrix, eye, zeros, ones, diag, GramSchmidt"
   ]
  },
  {
   "cell_type": "code",
   "execution_count": 123,
   "metadata": {},
   "outputs": [],
   "source": [
    "def legendre_symbol(a, p):\n",
    "    \"\"\" Compute the Legendre symbol a|p using\n",
    "    Euler's criterion. p is a prime, a is\n",
    "    relatively prime to p (if p divides\n",
    "    a, then a|p = 0)\n",
    "    Returns 1 if a has a square root modulo\n",
    "    p, -1 otherwise.\n",
    "    \"\"\"\n",
    "    ls = pow(a, (p - 1) // 2, p)\n",
    "    return -1 if ls == p - 1 else ls\n",
    "\n",
    "def chinese_remainder(n, a):\n",
    "    sum = 0\n",
    "    prod = reduce(lambda a, b: a*b, n)\n",
    "    for n_i, a_i in zip(n, a):\n",
    "        p = prod // n_i\n",
    "        sum += a_i * mul_inv(p, n_i) * p\n",
    "    return sum % prod\n",
    " \n",
    "def mul_inv(a, b):\n",
    "    b0 = b\n",
    "    x0, x1 = 0, 1\n",
    "    if b == 1: return 1\n",
    "    while a > 1:\n",
    "        q = a // b\n",
    "        a, b = b, a%b\n",
    "        x0, x1 = x1 - q * x0, x0\n",
    "    if x1 < 0: x1 += b0\n",
    "    return x1\n",
    "\n",
    "def stringToAscii(s):\n",
    "    return [ord(c) for c in s]\n",
    "\n",
    "def stringToBinary(s):\n",
    "    return [bin(ord(c)) for c in s]"
   ]
  },
  {
   "cell_type": "code",
   "execution_count": null,
   "metadata": {},
   "outputs": [
    {
     "name": "stdout",
     "output_type": "stream",
     "text": [
      "Máté\n",
      "['0b1001101', '0b11100001', '0b1110100', '0b11101001']\n",
      "['1', '0', '0', '1', '1', '0', '1', '1', '1', '1', '0', '0', '0', '0', '1', '1', '1', '1', '0', '1', '0', '0', '1', '1', '1', '0', '1', '0', '0', '1']\n",
      "[2, 3, 5, 7, 11, 13, 17, 19, 23, 29, 31, 37, 43, 53, 59, 67, 73, 83, 97, 101, 149, 151, 197, 199, 293, 587, 593, 599, 601, 607]\n",
      "30 30\n",
      "Solution exists -1\n",
      "[1, 0, 0, 1, 1, 0, 1, 1, 1, 1, 0, 0, 0, 0, 1, 1, 1, 1, 0, 1, 0, 0, 1, 1, 1, 0, 1, 0, 0, 1]\n",
      "Matrix([[1], [0], [0], [1], [1], [0], [1], [1], [1], [1], [0], [0], [0], [0], [1], [1], [1], [1], [0], [1], [0], [0], [1], [1], [1], [0], [1], [0], [0], [1]])\n"
     ]
    }
   ],
   "source": [
    "msg = \"Máté\"\n",
    "key = 580\n",
    "print(msg)\n",
    "asciiList = stringToAscii(msg)\n",
    "binaryList = stringToBinary(msg)\n",
    "print(binaryList)\n",
    "k = \"\"\n",
    "for j in binaryList:\n",
    "    k+=j[2:]\n",
    "print(list(k))\n",
    "squareFreeCores = []\n",
    "for j in range(key,key+len(k)):\n",
    "    factors = sympy.primefactors(j)\n",
    "    squareFreeFactorization = []\n",
    "    for l in factors: \n",
    "        helper = j\n",
    "        count = 0\n",
    "        while helper%l==0:\n",
    "            helper/=l\n",
    "            count+=1\n",
    "        if count%2==1:\n",
    "            squareFreeFactorization.append(l)\n",
    "    squareFreeCores+=squareFreeFactorization\n",
    "primes = list(set(squareFreeCores))\n",
    "primes.sort()\n",
    "print(primes)\n",
    "a=len(primes)\n",
    "b=len(k)\n",
    "print(a,b)\n",
    "A = zeros(b,a)\n",
    "for x in range(key,key+b):\n",
    "    for y in primes:\n",
    "        z = x\n",
    "        cnt = 0\n",
    "        while z % y == 0:\n",
    "            z/=y\n",
    "            cnt+=1\n",
    "        if cnt%2 == 1:  \n",
    "            A[x-key,primes.index(y)]=1\n",
    "print(\"Solution exists\",A.det()) ## We need a non-zero determinant!\n",
    "msgBin = []\n",
    "for x in k:\n",
    "    msgBin.append(int(x))\n",
    "print(msgBin)\n",
    "m = Matrix(a,1,msgBin)\n",
    "print(m)\n",
    "A_inv = A.inv_mod(2) ## for some reason, this seems to be super slow\n",
    "solution = A_inv*m\n",
    "print(solution)\n",
    "## Once the solution vector for the residues of the primes is established, then we just need to apply\n",
    "## the Chinese Remainder Theorem for getting the final prime modulus (see paper)\n"
   ]
  },
  {
   "cell_type": "code",
   "execution_count": null,
   "metadata": {},
   "outputs": [],
   "source": []
  }
 ],
 "metadata": {
  "kernelspec": {
   "display_name": "Python 3",
   "language": "python",
   "name": "python3"
  },
  "language_info": {
   "codemirror_mode": {
    "name": "ipython",
    "version": 3
   },
   "file_extension": ".py",
   "mimetype": "text/x-python",
   "name": "python",
   "nbconvert_exporter": "python",
   "pygments_lexer": "ipython3",
   "version": "3.9.0"
  }
 },
 "nbformat": 4,
 "nbformat_minor": 4
}
